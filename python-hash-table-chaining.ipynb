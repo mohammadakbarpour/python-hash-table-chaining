{
  "cells": [
    {
      "cell_type": "markdown",
      "metadata": {
        "id": "intro-hashing-md-v5"
      },
      "id": "intro-hashing-md-v5",
      "source": [
        "<div dir=\"rtl\" align=\"justify\">\n",
        "  <h2>مقدمه‌ای بر هَشینگ (Hashing)</h2>\n",
        "  <p><b>هشینگ</b> یک تکنیک اساسی در علوم کامپیوتر برای ذخیره و بازیابی سریع اطلاعات است. ایده اصلی این است که یک «جدول هش» (Hash Table) داشته باشیم که در واقع یک آرایه است. ما یک «تابع هش» (Hash Function) داریم که یک کلید (Key) منحصربه‌فرد (مانند یک شناسه) را می‌گیرد و آن را به یک ایندکس (Index) در آرایه تبدیل می‌کند.</p>\n",
        "  <p>در این مثال، ما یک سناریوی مشخص را بررسی می‌کنیم:</p>\n",
        "  <ul>\n",
        "    <li><b>جدول هش:</b> آرایه‌ای با اندازه 101 (ایندکس‌ها از 0 تا 100) است.</li>\n",
        "    <li><b>کلیدها (Keys):</b> مقادیر عددی هستند (مانند 145، 17، 30، ...).</li>\n",
        "    <li><b>تابع هش (Hash Function):</b> <code>key % 101</code> (باقیمانده تقسیم کلید بر 101).</li>\n",
        "  </ul>\n",
        "  <p>برای مثال، کلید 145 از طریق تابع هش به ایندکس <code>44 = 145 % 101</code> نگاشت می‌شود. این به ما اجازه می‌دهد تا رکورد R1 (مربوط به کلید 145) را مستقیماً در خانه 44 جدول ذخیره کنیم یا پیدا کنیم. این کار در حالت ایده‌آل، جستجو، درج و حذف را در زمان ثابت <i>O(1)</i> ممکن می‌سازد.</p>\n",
        "</div>"
      ]
    },
    {
      "cell_type": "markdown",
      "metadata": {
        "id": "collision-chaining-md-v5"
      },
      "id": "collision-chaining-md-v5",
      "source": [
        "<div dir=\"rtl\" align=\"justify\">\n",
        "  <h2>مشکل برخورد (Collision) و روش حل: زنجیره‌سازی جداگانه (Separate Chaining)</h2>\n",
        "  <p>مشکل زمانی رخ می‌دهد که دو یا چند کلید مختلف، به یک ایندکس یکسان هش شوند. به این حالت <b>«برخورد» (Collision)</b> می‌گویند.</p>\n",
        "  <p>در مثال ما:</p>\n",
        "  <ul>\n",
        "    <li><code>h(145) = 145 % 101 = 44</code></li>\n",
        "    <li><code>h(44)  =  44 % 101 = 44</code></li>\n",
        "  </ul>\n",
        "  <p>هر دو کلید 145 (مربوط به R1) و 44 (مربوط به R5) می‌خواهند در ایندکس 44 جدول قرار بگیرند. به همین ترتیب:</p>\n",
        "  <ul>\n",
        "    <li><code>h(17)  =  17 % 101 = 17</code></li>\n",
        "    <li><code>h(118) = 118 % 101 = 17</code></li>\n",
        "  </ul>\n",
        "  <p>کلیدهای 17 (R2) و 118 (R6) نیز در ایندکس 17 برخورد دارند.</p>\n",
        "  <p><b>راه حل: زنجیره‌سازی جداگانه (Separate Chaining)</b>. در این روش، هر خانه از جدول هش (آرایه اصلی) به جای ذخیره خودِ داده، یک <b>اشاره‌گر (Pointer)</b> به ابتدای یک <b>لیست پیوندی (Linked List)</b> را نگه می‌دارد. وقتی برخوردی رخ می‌دهد، رکورد جدید به انتهای آن لیست پیوندی اضافه می‌شود.</p>\n",
        "  <p>در این پیاده‌سازی:</p>\n",
        "  <ul>\n",
        "    <li>ایندکس 17 به لیستی اشاره می‌کند که شامل <code>R2</code> و سپس <code>R6</code> است. (<code>R2 -> R6 -> X</code>)</li>\n",
        "    <li>ایندکس 44 به لیستی اشاره می‌کند که شامل <code>R1</code> و سپس <code>R5</code> است. (<code>R1 -> R5 -> X</code>)</li>\n",
        "  </ul>\n",
        "</div>"
      ]
    },
    {
      "cell_type": "markdown",
      "metadata": {
        "id": "node-class-md-v5"
      },
      "id": "node-class-md-v5",
      "source": [
        "<div dir=\"rtl\" align=\"justify\">\n",
        "  <h2>پیاده‌سازی در پایتون: بخش اول - کلاس گره (Node)</h2>\n",
        "  <p>ابتدا، ما به کلاسی برای نمایش هر گره (Node) در لیست پیوندی نیاز داریم. هر گره باید خودِ <b>کلید</b> (key)، <b>داده</b> (data) مرتبط با آن (مثلاً نام دانشجو یا شناسه رکورد) و یک <b>اشاره‌گر به گره بعدی</b> (next) را ذخیره کند.</p>\n",
        "</div>"
      ]
    },
    {
      "cell_type": "code",
      "execution_count": 1,
      "metadata": {
        "id": "node-class-code-v5",
        "tags": []
      },
      "id": "node-class-code-v5",
      "outputs": [
        {
          "output_type": "stream",
          "name": "stdout",
          "text": [
            "Created Node with key: 145, data: R1, next: None\n"
          ]
        },
        {
          "output_type": "execute_result",
          "data": {
            "text/plain": [
              "<__main__.Node at 0x10f5b3a90>"
            ]
          },
          "metadata": {},
          "execution_count": 1
        }
      ],
      "source": [
        "# Define the Node class for the linked list\n",
        "# Each node holds a key, its associated data, and a pointer (next)\n",
        "class Node:\n",
        "    def __init__(self, key, data):\n",
        "        self.key = key       # The key (e.g., student ID)\n",
        "        self.data = data     # The data (e.g., \"R1\", student name, etc.)\n",
        "        self.next = None     # Pointer to the next node in the chain\n",
        "\n",
        "# Test creating a node\n",
        "node_test = Node(145, \"R1\")\n",
        "print(f\"Created Node with key: {node_test.key}, data: {node_test.data}, next: {node_test.next}\")\n",
        "node_test"
      ]
    },
    {
      "cell_type": "markdown",
      "metadata": {
        "id": "hashtable-class-md-v5"
      },
      "id": "hashtable-class-md-v5",
      "source": [
        "<div dir=\"rtl\" align=\"justify\">\n",
        "  <h2>پیاده‌سازی در پایتون: بخش دوم - کلاس جدول هش (HashTable)</h2>\n",
        "  <p>اکنون کلاس اصلی <code>HashTable</code> را می‌سازیم. این کلاس شامل موارد زیر خواهد بود:</p>\n",
        "  <ul>\n",
        "    <li><code>__init__(self, size)</code>: سازنده‌ای که جدول (آرایه) را با اندازه مشخص (در مثال ما 101) می‌سازد و آن را با مقادیر <code>None</code> پر می‌کند.</li>\n",
        "    <li><code>_hash(self, key)</code>: متد خصوصی برای محاسبه تابع هش (<code>key % size</code>).</li>\n",
        "    <li><code>insert(self, key, data)</code>: متدی برای درج داده. این متد ابتدا ایندکس را هش می‌کند. اگر خانه خالی بود، گره جدید را آنجا قرار می‌دهد. اگر خالی نبود (برخورد)، به انتهای لیست پیوندی در آن خانه می‌رود و گره جدید را اضافه می‌کند.</li>\n",
        "    <li><code>search(self, key)</code>: متدی برای جستجوی یک کلید. ایندکس را هش می‌کند، سپس لیست پیوندی آن خانه را برای یافتن کلید مورد نظر پیمایش می‌کند.</li>\n",
        "    <li><code>display(self)</code>: یک متد کمکی برای چاپ محتویات جدول به شکلی خوانا.</li>\n",
        "  </ul>\n",
        "</div>"
      ]
    },
    {
      "cell_type": "code",
      "execution_count": 2,
      "metadata": {
        "id": "hashtable-class-code-v5",
        "tags": []
      },
      "id": "hashtable-class-code-v5",
      "outputs": [
        {
          "output_type": "stream",
          "name": "stdout",
          "text": [
            "Created HashTable with size: 10\n"
          ]
        },
        {
          "output_type": "execute_result",
          "data": {
            "text/plain": [
              "<__main__.HashTable at 0x10f5b3b50>"
            ]
          },
          "metadata": {},
          "execution_count": 2
        }
      ],
      "source": [
        "# Define the HashTable class\n",
        "class HashTable:\n",
        "    def __init__(self, size):\n",
        "        # Initialize the table with 'size' empty slots (None)\n",
        "        self.size = size\n",
        "        self.table = [None] * self.size\n",
        "\n",
        "    def _hash(self, key):\n",
        "        # The hash function, as shown in the example (mod 101)\n",
        "        # We use self.size to be more general\n",
        "        return key % self.size\n",
        "\n",
        "    def insert(self, key, data):\n",
        "        # Insert a new key-data pair\n",
        "        index = self._hash(key)\n",
        "        new_node = Node(key, data)\n",
        "\n",
        "        if self.table[index] is None:\n",
        "            # If the slot is empty, place the new node here\n",
        "            # This node is the HEAD of the linked list at this index\n",
        "            self.table[index] = new_node\n",
        "        else:\n",
        "            # If there's a collision, traverse to the end of the chain\n",
        "            current = self.table[index]\n",
        "            while current.next:\n",
        "                current = current.next\n",
        "            # Add the new node at the end of the chain\n",
        "            current.next = new_node\n",
        "            \n",
        "    def search(self, key):\n",
        "        # Search for a key in the hash table\n",
        "        index = self._hash(key)\n",
        "        current = self.table[index] # Get the head of the chain\n",
        "\n",
        "        # Traverse the chain at this index\n",
        "        while current:\n",
        "            if current.key == key:\n",
        "                # Found the key, return its data\n",
        "                return current.data\n",
        "            current = current.next\n",
        "        \n",
        "        # Key not found after traversing the entire chain (or if chain was empty)\n",
        "        return None\n",
        "\n",
        "    def display(self):\n",
        "        # Utility function to print the hash table contents\n",
        "        print(\"--- Hash Table Contents ---\")\n",
        "        print(f\"Table Size: {self.size}\")\n",
        "        for i in range(self.size):\n",
        "            if self.table[i] is not None:\n",
        "                # This slot has a chain\n",
        "                print(f\"Index {i}: \", end=\"\")\n",
        "                current = self.table[i]\n",
        "                chain = []\n",
        "                while current:\n",
        "                    chain.append(f\"(Key={current.key}, Data={current.data})\")\n",
        "                    current = current.next\n",
        "                print(\" -> \".join(chain))\n",
        "        print(\"-----------------------------\")\n",
        "\n",
        "# Test initializing the table\n",
        "test_ht = HashTable(10) # Create a small test table\n",
        "print(f\"Created HashTable with size: {test_ht.size}\")\n",
        "test_ht"
      ]
    },
    {
      "cell_type": "markdown",
      "metadata": {
        "id": "run-example-md-v5"
      },
      "id": "run-example-md-v5",
      "source": [
        "<div dir=\"rtl\" align=\"justify\">\n",
        "  <h2>اجرای مثال نمونه</h2>\n",
        "  <p>حال، داده‌های نمونه را در جدول هش خود درج میکنیم. ما یک جدول با اندازه 101 می‌سازیم.</p>\n",
        "  <p>برای اینکه زنجیره‌ها به شکل خاصی (مثلاً R1 و سپس R5) ساخته شوند، ترتیب درج اهمیت دارد. ما فرض می‌کنیم <code>R1</code> قبل از <code>R5</code> و <code>R2</code> قبل از <code>R6</code> درج شده است.</p>\n",
        "  <p>ترتیب درج داده‌ها:</p>\n",
        "  <ol>\n",
        "    <li><code>insert(145, \"R1\")</code> -> <code>h(145) = 44</code></li>\n",
        "    <li><code>insert(17, \"R2\")</code>  -> <code>h(17) = 17</code></li>\n",
        "    <li><code>insert(30, \"R3\")</code>  -> <code>h(30) = 30</code></li>\n",
        "    <li><code>insert(15, \"R4\")</code>  -> <code>h(15) = 15</code></li>\n",
        "    <li><code>insert(44, \"R5\")</code>  -> <code>h(44) = 44</code> (<b>برخورد!</b> به انتهای لیست در ایندکس 44 اضافه می‌شود)</li>\n",
        "    <li><code>insert(118, \"R6\")</code> -> <code>h(118) = 17</code> (<b>برخورد!</b> به انتهای لیست در ایندکس 17 اضافه می‌شود)</li>\n",
        "  </ol>\n",
        "  <p>پس از درج، متد <code>display()</code> را فراخوانی می‌کنیم تا ساختار نهایی را ببینیم.</p>\n",
        "</div>"
      ]
    },
    {
      "cell_type": "code",
      "execution_count": 3,
      "metadata": {
        "id": "run-example-code-v5",
        "tags": []
      },
      "id": "run-example-code-v5",
      "outputs": [
        {
          "output_type": "stream",
          "name": "stdout",
          "text": [
            "--- Hash Table Contents ---\n",
            "Table Size: 101\n",
            "Index 15: (Key=15, Data=R4)\n",
            "Index 17: (Key=17, Data=R2) -> (Key=118, Data=R6)\n",
            "Index 30: (Key=30, Data=R3)\n",
            "Index 44: (Key=145, Data=R1) -> (Key=44, Data=R5)\n",
            "-----------------------------\n"
          ]
        }
      ],
      "source": [
        "# 1. Initialize the Hash Table with size 101\n",
        "# This creates a list of 101 'None' values\n",
        "student_hash_table = HashTable(101)\n",
        "\n",
        "# 2. Insert the sample data\n",
        "# The order is important to replicate the desired chains\n",
        "\n",
        "# (R1, key=145) hashes to 145 % 101 = 44\n",
        "student_hash_table.insert(145, \"R1\")\n",
        "\n",
        "# (R2, key=17) hashes to 17 % 101 = 17\n",
        "student_hash_table.insert(17, \"R2\")\n",
        "\n",
        "# (R3, key=30) hashes to 30 % 101 = 30\n",
        "student_hash_table.insert(30, \"R3\")\n",
        "\n",
        "# (R4, key=15) hashes to 15 % 101 = 15\n",
        "student_hash_table.insert(15, \"R4\")\n",
        "\n",
        "# (R5, key=44) hashes to 44 % 101 = 44 (COLLISION with R1)\n",
        "# Appends to the chain at index 44\n",
        "student_hash_table.insert(44, \"R5\")\n",
        "\n",
        "# (R6, key=118) hashes to 118 % 101 = 17 (COLLISION with R2)\n",
        "# Appends to the chain at index 17\n",
        "student_hash_table.insert(118, \"R6\")\n",
        "\n",
        "# 3. Display the final hash table structure\n",
        "# The output shows the final structure\n",
        "student_hash_table.display()"
      ]
    },
    {
      "cell_type": "markdown",
      "metadata": {
        "id": "search-test-md-v5"
      },
      "id": "search-test-md-v5",
      "source": [
        "<div dir=\"rtl\" align=\"justify\">\n",
        "  <h2>تست جستجو (Search)</h2>\n",
        "  <p>در نهایت، متد <code>search</code> را تست می‌کنیم تا مطمئن شویم به درستی کار می‌کند. ما موارد زیر را جستجو خواهیم کرد:</p>\n",
        "  <ul>\n",
        "    <li><b>جستجوی کلید 145:</b> باید رکورد <code>R1</code> را برگرداند (ابتدای زنجیره در ایندکس 44).</li>\n",
        "    <li><b>جستجوی کلید 44:</b> باید رکورد <code>R5</code> را برگرداند (انتهای زنجیره در ایندکس 44).</li>\n",
        "    <li><b>جستجوی کلید 118:</b> باید رکورد <code>R6</code> را برگرداند (انتهای زنجیره در ایندکس 17).</li>\n",
        "    <li><b>جستجوی کلید 999:</b> این کلید وجود ندارد (<code>999 % 101 = 90</code>). خانه 90 خالی است، بنابراین باید <code>None</code> برگرداند.</li>\n",
        "  </ul>\n",
        "</div>"
      ]
    },
    {
      "cell_type": "code",
      "execution_count": 4,
      "metadata": {
        "id": "search-test-code-v5",
        "tags": []
      },
      "id": "search-test-code-v5",
      "outputs": [
        {
          "output_type": "stream",
          "name": "stdout",
          "text": [
            "Search for key 145: Found data = R1\n",
            "Search for key 44: Found data = R5\n",
            "Search for key 118: Found data = R6\n",
            "Search for key 999: Found data = None\n"
          ]
        }
      ],
      "source": [
        "# 4. Test the search functionality\n",
        "\n",
        "# Search for a key at the start of a chain (R1)\n",
        "key_to_find = 145\n",
        "result = student_hash_table.search(key_to_find)\n",
        "print(f\"Search for key {key_to_find}: Found data = {result}\")\n",
        "\n",
        "# Search for a key at the end of a chain (R5)\n",
        "key_to_find = 44\n",
        "result = student_hash_table.search(key_to_find)\n",
        "print(f\"Search for key {key_to_find}: Found data = {result}\")\n",
        "\n",
        "# Search for the other chain (R6)\n",
        "key_to_find = 118\n",
        "result = student_hash_table.search(key_to_find)\n",
        "print(f\"Search for key {key_to_find}: Found data = {result}\")\n",
        "\n",
        "# Search for a key that doesn't exist\n",
        "key_to_find = 999\n",
        "result = student_hash_table.search(key_to_find)\n",
        "print(f\"Search for key {key_to_find}: Found data = {result}\")"
      ]
    }
  ],
  "metadata": {
    "colab": {
      "provenance": []
    },
    "kernelspec": {
      "display_name": "Python 3 (ipykernel)",
      "language": "python",
      "name": "python3"
    },
    "language_info": {
      "codemirror_mode": {
        "name": "ipython",
        "version": 3
      },
      "file_extension": ".py",
      "mimetype": "text/x-python",
      "name": "python",
      "nbconvert_exporter": "python",
      "pygments_lexer": "ipython3",
      "version": "3.10.12"
    }
  },
  "nbformat": 4,
  "nbformat_minor": 5
}
